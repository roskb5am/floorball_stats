# First, let's import the necessary libraries.
import pandas as pd
import matplotlib.pyplot as plt

# Create some sample data using pandas DataFrame.
data = {
    'Year': [2010, 2011, 2012, 2013, 2014, 2015, 2016, 2017, 2018, 2019],
    'Sales': [500, 600, 700, 800, 900, 1100, 1300, 1500, 1600, 1700]
}

df = pd.DataFrame(data)

# Display the DataFrame to see the data.
df

# Plotting the data.
plt.figure(figsize=(10, 6))
plt.plot(df['Year'], df['Sales'], marker='o', color='b', linestyle='-', linewidth=2, markersize=8)
plt.title('Sales Over the Years')
plt.xlabel('Year')
plt.ylabel('Sales')
plt.grid(True)
plt.show()
