import pandas as pd
import matplotlib.pyplot as plt

data = {
    'Year': [2010, 2011, 2012, 2013, 2014, 2015, 2016, 2017, 2018, 2019],
    'Sales': [500, 600, 700, 800, 900, 1100, 1300, 1500, 1600, 1700]
}

my_data = pd.DataFrame(data)

my_data
