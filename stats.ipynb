# First, let's import the necessary libraries.
import pandas as pd
import matplotlib.pyplot as plt

# Create some sample data using pandas DataFrame.
data = {
    'Year': [2010, 2011, 2012, 2013, 2014, 2015, 2016, 2017, 2018, 2019],
    'Sales': [500, 600, 700, 800, 900, 1100, 1300, 1500, 1600, 1700]
}

df = pd.DataFrame(data)

# Display the DataFrame to see the data.
df
